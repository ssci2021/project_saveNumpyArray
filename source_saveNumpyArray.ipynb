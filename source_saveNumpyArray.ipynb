{
 "cells": [
  {
   "cell_type": "code",
   "execution_count": 16,
   "metadata": {},
   "outputs": [],
   "source": [
    "import numpy as np"
   ]
  },
  {
   "cell_type": "code",
   "execution_count": 17,
   "metadata": {
    "scrolled": false
   },
   "outputs": [
    {
     "data": {
      "text/plain": [
       "array([[[[0.24366961, 0.40957699]],\n",
       "\n",
       "        [[0.32672121, 0.7209658 ]],\n",
       "\n",
       "        [[0.60862631, 0.21015568]],\n",
       "\n",
       "        [[0.82674085, 0.06136942]],\n",
       "\n",
       "        [[0.78443306, 0.055442  ]],\n",
       "\n",
       "        [[0.67179405, 0.83270146]],\n",
       "\n",
       "        [[0.82857344, 0.81172083]]],\n",
       "\n",
       "\n",
       "       [[[0.6314733 , 0.99724952]],\n",
       "\n",
       "        [[0.93430052, 0.17753509]],\n",
       "\n",
       "        [[0.20094123, 0.46098369]],\n",
       "\n",
       "        [[0.30550888, 0.46108315]],\n",
       "\n",
       "        [[0.99765789, 0.00896771]],\n",
       "\n",
       "        [[0.94871218, 0.67101479]],\n",
       "\n",
       "        [[0.72738078, 0.14349332]]]])"
      ]
     },
     "execution_count": 17,
     "metadata": {},
     "output_type": "execute_result"
    }
   ],
   "source": [
    "arr_x = np.random.rand(2,7,1,2)\n",
    "arr_x"
   ]
  },
  {
   "cell_type": "code",
   "execution_count": 18,
   "metadata": {},
   "outputs": [],
   "source": [
    "with open('test.npy', 'wb') as npyFile:\n",
    "    np.save(npyFile, arr_x)"
   ]
  },
  {
   "cell_type": "code",
   "execution_count": 19,
   "metadata": {},
   "outputs": [
    {
     "data": {
      "text/plain": [
       "array([[[[0.24366961, 0.40957699]],\n",
       "\n",
       "        [[0.32672121, 0.7209658 ]],\n",
       "\n",
       "        [[0.60862631, 0.21015568]],\n",
       "\n",
       "        [[0.82674085, 0.06136942]],\n",
       "\n",
       "        [[0.78443306, 0.055442  ]],\n",
       "\n",
       "        [[0.67179405, 0.83270146]],\n",
       "\n",
       "        [[0.82857344, 0.81172083]]],\n",
       "\n",
       "\n",
       "       [[[0.6314733 , 0.99724952]],\n",
       "\n",
       "        [[0.93430052, 0.17753509]],\n",
       "\n",
       "        [[0.20094123, 0.46098369]],\n",
       "\n",
       "        [[0.30550888, 0.46108315]],\n",
       "\n",
       "        [[0.99765789, 0.00896771]],\n",
       "\n",
       "        [[0.94871218, 0.67101479]],\n",
       "\n",
       "        [[0.72738078, 0.14349332]]]])"
      ]
     },
     "execution_count": 19,
     "metadata": {},
     "output_type": "execute_result"
    }
   ],
   "source": [
    "with open('test.npy', 'rb') as npyFile:\n",
    "    arr_input = np.load(npyFile)\n",
    "arr_input"
   ]
  }
 ],
 "metadata": {
  "kernelspec": {
   "display_name": "Python 3",
   "language": "python",
   "name": "python3"
  },
  "language_info": {
   "codemirror_mode": {
    "name": "ipython",
    "version": 3
   },
   "file_extension": ".py",
   "mimetype": "text/x-python",
   "name": "python",
   "nbconvert_exporter": "python",
   "pygments_lexer": "ipython3",
   "version": "3.8.5"
  }
 },
 "nbformat": 4,
 "nbformat_minor": 4
}
